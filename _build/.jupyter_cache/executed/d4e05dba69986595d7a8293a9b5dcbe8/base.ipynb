{
 "cells": [
  {
   "cell_type": "code",
   "execution_count": 1,
   "id": "4ceff1e2",
   "metadata": {},
   "outputs": [],
   "source": [
    "import numpy as np\n",
    "\n",
    "nx = 20\n",
    "Q = 341.3 # W / m^2   \n",
    "sigma = 5.67e-8 # W / m^2 / K^4\n",
    "alpha = np.linspace(0,1,nx)\n",
    "tau = np.linspace(0.1,1,nx)\n",
    "\n",
    "Teq_obs = ((1-0.3)*Q/0.61/sigma)**0.25\n",
    "\n",
    "Teq = np.zeros((nx,nx))\n",
    "for JJ in range(nx):\n",
    "    for II in range(nx):\n",
    "        Teq[JJ,II] = ((1-alpha[JJ])*Q/tau[II]/sigma)**0.25"
   ]
  }
 ],
 "metadata": {
  "jupytext": {
   "text_representation": {
    "extension": ".md",
    "format_name": "myst"
   }
  },
  "kernelspec": {
   "display_name": "Python 3",
   "language": "python",
   "name": "python3"
  },
  "language_info": {
   "codemirror_mode": {
    "name": "ipython",
    "version": 3
   },
   "file_extension": ".py",
   "mimetype": "text/x-python",
   "name": "python",
   "nbconvert_exporter": "python",
   "pygments_lexer": "ipython3",
   "version": "3.11.5"
  },
  "source_map": [
   10,
   159,
   174
  ]
 },
 "nbformat": 4,
 "nbformat_minor": 5
}