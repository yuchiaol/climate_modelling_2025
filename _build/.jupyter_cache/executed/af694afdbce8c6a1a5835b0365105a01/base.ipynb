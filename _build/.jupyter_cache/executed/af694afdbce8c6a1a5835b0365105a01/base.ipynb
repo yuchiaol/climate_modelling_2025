{
 "cells": [
  {
   "cell_type": "code",
   "execution_count": 1,
   "id": "c139e341",
   "metadata": {},
   "outputs": [
    {
     "name": "stdout",
     "output_type": "stream",
     "text": [
      "<xarray.DataArray (level: 17)> Size: 68B\n",
      "array([ 15.179084  ,  11.207003  ,   7.8383274 ,   0.21994135,\n",
      "        -6.4483433 , -14.888848  , -25.570469  , -39.36969   ,\n",
      "       -46.797905  , -53.652245  , -60.56356   , -67.006065  ,\n",
      "       -65.53293   , -61.48664   , -55.853584  , -51.593952  ,\n",
      "       -43.21999   ], dtype=float32)\n",
      "Coordinates:\n",
      "  * level    (level) float32 68B 1e+03 925.0 850.0 700.0 ... 50.0 30.0 20.0 10.0\n"
     ]
    }
   ],
   "source": [
    "#  This code is used just to create the skew-T plot of global, annual mean air temperature\n",
    "%matplotlib inline\n",
    "import numpy as np\n",
    "import matplotlib.pyplot as plt\n",
    "import xarray as xr\n",
    "from metpy.plots import SkewT\n",
    "import climlab\n",
    "\n",
    "#plt.style.use('dark_background')\n",
    "\n",
    "#  This code is used just to create the skew-T plot of global, annual mean air temperature\n",
    "#ncep_url = \"http://www.esrl.noaa.gov/psd/thredds/dodsC/Datasets/ncep.reanalysis.derived/\"\n",
    "ncep_url = \"/Users/yuchiaol_ntuas/Desktop/ebooks/data/\"\n",
    "#time_coder = xr.coders.CFDatetimeCoder(use_cftime=True)\n",
    "ncep_air = xr.open_dataset( ncep_url + \"air.mon.1981-2010.ltm.nc\", use_cftime=True)\n",
    "#  Take global, annual average \n",
    "coslat = np.cos(np.deg2rad(ncep_air.lat))\n",
    "weight = coslat / coslat.mean(dim='lat')\n",
    "Tglobal = (ncep_air.air * weight).mean(dim=('lat','lon','time'))\n",
    "\n",
    "print(Tglobal)\n",
    "\n",
    "#  Resuable function to plot the temperature data on a Skew-T chart\n",
    "def make_skewT():\n",
    "    fig = plt.figure(figsize=(9, 9))\n",
    "    skew = SkewT(fig, rotation=30)\n",
    "    skew.plot(Tglobal.level, Tglobal, color='black', linestyle='-', linewidth=2, label='Observations')\n",
    "    skew.ax.set_ylim(1050, 10)\n",
    "    skew.ax.set_xlim(-90, 45)\n",
    "    # Add the relevant special lines\n",
    "    skew.plot_dry_adiabats(linewidth=0.5)\n",
    "    skew.plot_moist_adiabats(linewidth=0.5)\n",
    "    #skew.plot_mixing_lines()\n",
    "    skew.ax.legend()\n",
    "    skew.ax.set_xlabel('Temperature (degC)', fontsize=14)\n",
    "    skew.ax.set_ylabel('Pressure (hPa)', fontsize=14)\n",
    "    return skew\n",
    "\n",
    "#  and a function to add extra profiles to this chart\n",
    "def add_profile(skew, model, linestyle='-', color=None):\n",
    "    line = skew.plot(model.lev, model.Tatm - climlab.constants.tempCtoK,\n",
    "             label=model.name, linewidth=2)[0]\n",
    "    skew.plot(1000, model.Ts - climlab.constants.tempCtoK, 'o', \n",
    "              markersize=8, color=line.get_color())\n",
    "    skew.ax.legend()\n"
   ]
  },
  {
   "cell_type": "code",
   "execution_count": 2,
   "id": "1c80b8ce",
   "metadata": {},
   "outputs": [
    {
     "name": "stdout",
     "output_type": "stream",
     "text": [
      "climlab Process of type <class 'climlab.process.time_dependent_process.TimeDependentProcess'>. \n",
      "State variables and domain shapes: \n",
      "  Ts: (1,) \n",
      "  Tatm: (26,) \n",
      "The subprocess tree: \n",
      "Radiative-Convective Model: <class 'climlab.process.time_dependent_process.TimeDependentProcess'>\n",
      "   Radiation: <class 'climlab.radiation.rrtm.rrtmg.RRTMG'>\n",
      "      SW: <class 'climlab.radiation.rrtm.rrtmg_sw.RRTMG_SW'>\n",
      "      LW: <class 'climlab.radiation.rrtm.rrtmg_lw.RRTMG_LW'>\n",
      "   Convection: <class 'climlab.convection.convadj.ConvectiveAdjustment'>\n",
      "\n",
      "0.000348\n",
      "Integrating for 1826 steps, 1826.2110000000002 days, or 5 years.\n"
     ]
    },
    {
     "name": "stdout",
     "output_type": "stream",
     "text": [
      "Total elapsed time is 4.999422301147019 years.\n",
      "None\n",
      "[-3.3651304e-11]\n"
     ]
    }
   ],
   "source": [
    "# Get the water vapor data from CESM output\n",
    "#cesm_data_path = \"http://thredds.atmos.albany.edu:8080/thredds/dodsC/CESMA/\"\n",
    "cesm_data_path = \"/Users/yuchiaol_ntuas/Desktop/ebooks/data/\"\n",
    "atm_control = xr.open_dataset(cesm_data_path + \"cpl_1850_f19.cam.h0.nc\")\n",
    "# Take global, annual average of the specific humidity\n",
    "weight_factor = atm_control.gw / atm_control.gw.mean(dim='lat')\n",
    "Qglobal = (atm_control.Q * weight_factor).mean(dim=('lat','lon','time'))\n",
    "\n",
    "#  Make a model on same vertical domain as the GCM\n",
    "mystate = climlab.column_state(lev=Qglobal.lev, water_depth=2.5)\n",
    "#  Build the radiation model -- just like we already did\n",
    "rad = climlab.radiation.RRTMG(name='Radiation',\n",
    "                              state=mystate, \n",
    "                              specific_humidity=Qglobal.values,\n",
    "                              timestep = climlab.constants.seconds_per_day,\n",
    "                              albedo = 0.25,  # surface albedo, tuned to give reasonable ASR for reference cloud-free model\n",
    "                             )\n",
    "#  Now create the convection model\n",
    "conv = climlab.convection.ConvectiveAdjustment(name='Convection',\n",
    "                                               state=mystate,\n",
    "                                               adj_lapse_rate=6.5,\n",
    "                                               timestep=rad.timestep,\n",
    "                                              )\n",
    "#  Here is where we build the model by coupling together the two components\n",
    "rcm = climlab.couple([rad, conv], name='Radiative-Convective Model')\n",
    "\n",
    "print(rcm)\n",
    "\n",
    "print(rcm.subprocess['Radiation'].absorber_vmr['CO2'])\n",
    "\n",
    "print(rcm.integrate_years(5))\n",
    "\n",
    "print(rcm.ASR - rcm.OLR)\n"
   ]
  },
  {
   "cell_type": "code",
   "execution_count": 3,
   "id": "0af9320c",
   "metadata": {},
   "outputs": [
    {
     "name": "stdout",
     "output_type": "stream",
     "text": [
      "0.000348\n",
      "0.000696\n"
     ]
    }
   ],
   "source": [
    "# Make an exact clone with same temperatures\n",
    "rcm_2xCO2 = climlab.process_like(rcm)\n",
    "rcm_2xCO2.name = 'Radiative-Convective Model (2xCO2 initial)'\n",
    "\n",
    "#  Check to see that we indeed have the same CO2 amount\n",
    "print(rcm_2xCO2.subprocess['Radiation'].absorber_vmr['CO2'])\n",
    "\n",
    "#  Now double it!\n",
    "rcm_2xCO2.subprocess['Radiation'].absorber_vmr['CO2'] *= 2\n",
    "\n",
    "print(rcm_2xCO2.subprocess['Radiation'].absorber_vmr['CO2'])\n"
   ]
  },
  {
   "cell_type": "code",
   "execution_count": 4,
   "id": "8e3d803b",
   "metadata": {},
   "outputs": [
    {
     "name": "stdout",
     "output_type": "stream",
     "text": [
      "[0.06274162]\n",
      "[-2.11458541]\n",
      "[2.17732704]\n"
     ]
    }
   ],
   "source": [
    "rcm_2xCO2.compute_diagnostics()\n",
    "\n",
    "print(rcm_2xCO2.ASR - rcm.ASR)\n",
    "\n",
    "print(rcm_2xCO2.OLR - rcm.OLR)\n",
    "\n",
    "DeltaR_instant = (rcm_2xCO2.ASR - rcm_2xCO2.OLR) - (rcm.ASR - rcm.OLR)\n",
    "\n",
    "print(DeltaR_instant)\n"
   ]
  },
  {
   "cell_type": "code",
   "execution_count": 5,
   "id": "42e415b0",
   "metadata": {},
   "outputs": [
    {
     "name": "stdout",
     "output_type": "stream",
     "text": [
      "[226.513265 266.481155 313.501265 368.81798  433.895225 510.455255\n",
      " 600.5242   696.79629  787.70206  867.16076  929.648875 970.55483\n",
      " 992.5561  ]\n"
     ]
    },
    {
     "name": "stdout",
     "output_type": "stream",
     "text": [
      "[4.28837377]\n"
     ]
    }
   ],
   "source": [
    "# print out troposphere\n",
    "print(rcm.lev[13:])\n",
    "\n",
    "rcm_2xCO2_strat = climlab.process_like(rcm_2xCO2)\n",
    "rcm_2xCO2_strat.name = 'Radiative-Convective Model (2xCO2 stratosphere-adjusted)'\n",
    "for n in range(1000):\n",
    "    rcm_2xCO2_strat.step_forward()\n",
    "# hold tropospheric and surface temperatures fixed\n",
    "    rcm_2xCO2_strat.Tatm[13:] = rcm.Tatm[13:]\n",
    "    rcm_2xCO2_strat.Ts[:] = rcm.Ts[:]\n",
    "\n",
    "DeltaR = (rcm_2xCO2_strat.ASR - rcm_2xCO2_strat.OLR) - (rcm.ASR - rcm.OLR)\n",
    "print(DeltaR)\n"
   ]
  }
 ],
 "metadata": {
  "jupytext": {
   "text_representation": {
    "extension": ".md",
    "format_name": "myst"
   }
  },
  "kernelspec": {
   "display_name": "Python 3",
   "language": "python",
   "name": "python3"
  },
  "language_info": {
   "codemirror_mode": {
    "name": "ipython",
    "version": 3
   },
   "file_extension": ".py",
   "mimetype": "text/x-python",
   "name": "python",
   "nbconvert_exporter": "python",
   "pygments_lexer": "ipython3",
   "version": "3.11.5"
  },
  "source_map": [
   10,
   25,
   74,
   109,
   114,
   127,
   130,
   141,
   146,
   161
  ]
 },
 "nbformat": 4,
 "nbformat_minor": 5
}