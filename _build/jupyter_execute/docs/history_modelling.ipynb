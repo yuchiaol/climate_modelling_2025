{
 "cells": [
  {
   "cell_type": "markdown",
   "id": "1bb1304d",
   "metadata": {},
   "source": [
    "(history_modelling)=\n",
    "\n",
    "# The History of Climate Modelling\n",
    "\n",
    "In this lecture, we briefly go over the history of climate modelling. I follow the timeline organized by [a CarbonBrief online article](https://www.carbonbrief.org/timeline-history-climate-modelling/)\n",
    "and use materials written by [Dr. Yi-Hsuan Chen](https://pb.ps-taiwan.org/modules/news/article.php?storyid=648) and [Dr. Yen-Ting Hwang](https://pb.ps-taiwan.org/modules/news/article.php?storyid=647). \n",
    "\n",
    "## What is climate modelling?\n",
    "Ask ChatGPT:\n",
    "\n",
    "> Climate modeling is the use of mathematical models to simulate and understand the Earth's climate system. These models are built using equations that represent the physical, chemical, and biological processes that govern climate dynamics. By incorporating key elements such as the atmosphere, oceans, land surface, ice, and human influences, climate models help scientists study past, present, and future climate conditions.\n",
    "\n",
    "> Key Components of Climate Models \n",
    "> 1. Atmospheric Dynamics: Movements of air, heat, and moisture through processes like wind, convection, and cloud formation.\n",
    "> 2. Ocean Dynamics: Currents, heat exchange, and the movement of salinity within the ocean.\n",
    "> 3. Land Surface: The effects of vegetation, soil moisture, and albedo (reflectivity) on climate.\n",
    "> 4. Cryosphere: The role of ice sheets, glaciers, and sea ice in reflecting sunlight and regulating heat.\n",
    "> 5. Radiative Transfer: The movement of solar and terrestrial radiation, influencing temperature and weather patterns.\n",
    "> 6. Greenhouse Gas Emissions and Aerosols: The role of CO2, methane, and other pollutants in warming or cooling the atmosphere.\n",
    "\n",
    "> Types of Climate Models\n",
    "> 1. Simple Climate Models: Often used for specific questions, these models simplify the system, focusing on just a few elements like temperature and carbon cycle dynamics.\n",
    "> 2. General Circulation Models (GCMs): Complex three-dimensional models that simulate the entire climate system, including interactions between the atmosphere, oceans, land surface, and ice.\n",
    "> 3. Earth System Models (ESMs): Advanced GCMs that also include processes like the carbon cycle, biogeochemistry, and the role of vegetation and ecosystems.\n",
    "\n",
    "> Purposes of Climate Modeling\n",
    "> 1. Understanding Climate Change: Models help predict how the Earth's climate will respond to increasing greenhouse gas concentrations, enabling scientists to project future temperature rise, sea-level changes, and extreme weather events.\n",
    "> 2. Paleoclimate Studies: By modeling past climates, scientists can understand how the Earth’s climate has changed over millennia and how it might behave in the future.\n",
    "> 3. Scenario Planning: Climate models are used to test different policy scenarios, such as reducing carbon emissions, and their potential impacts on global and regional climates.\n",
    "> 4. Short-Term Forecasting: Seasonal and decadal climate models can predict patterns like El Niño, monsoons, or droughts.\n",
    "\n",
    "> Limitations of Climate Models\n",
    "> 1. Resolution: Models often have a coarse resolution, making it difficult to simulate fine-scale processes like local weather patterns or regional topography.\n",
    "> 2. Uncertainty: There is inherent uncertainty in projections due to unknown future human activities, natural variability, and incomplete understanding of certain climate processes.\n",
    "> 3. Complex Interactions: The climate system is highly complex, and not all interactions—especially those involving clouds, aerosols, and ocean circulation—are fully understood.\n",
    "\n",
    "```{note}\n",
    "George E. P. Box (statistician): Essentially, all models are wrong, but some are useful.\n",
    "```\n",
    "\n",
    "## 1896 - Svante August Arrhenius \n",
    "\n",
    "- Wikipedia link: [here](https://en.wikipedia.org/wiki/Svante_Arrhenius)\n",
    "- On the Influence of Carbonic Acid in the Air upon the Temperature of the Ground ([here](https://www.rsc.org/images/Arrhenius1896_tcm18-173546.pdf))\n",
    "- Fourier (1827)\n",
    "- Pouillet (1838)\n",
    "- Tyndail (1865)\n",
    "- Langley (1884, 1890)\n",
    "\n",
    "In Particular, Arrhenius' Table VII impressed me most becasue it shows polar amplified temperature increase:\n",
    "\n",
    "```{figure} /_static/lecture_specific/lecture1_figures/arrhenius_table.png\n",
    ":scale: 85%\n",
    "```\n",
    "\n",
    "\n",
    "## 1904 - Vilhelm Bjerknes\n",
    "\n",
    "## 1922 - Lewis Fry Richardson \n",
    "\n",
    "\n",
    "\n",
    "## NumPy\n",
    "\n",
    "Fundamental matrix and array processing capabilities are provided by the\n",
    "excellent [NumPy](http://www.numpy.org/) library.\n",
    "\n",
    "For example, let\\'s build some arrays"
   ]
  },
  {
   "cell_type": "code",
   "execution_count": null,
   "id": "c137edd0",
   "metadata": {},
   "outputs": [],
   "source": [
    "import numpy as np                     # Load the library\n",
    "\n",
    "a = np.linspace(-np.pi, np.pi, 100)    # Create even grid from -π to π\n",
    "b = np.cos(a)                          # Apply cosine to each element of a\n",
    "c = np.sin(a)                          # Apply sin to each element of a"
   ]
  },
  {
   "cell_type": "markdown",
   "id": "125d607c",
   "metadata": {},
   "source": [
    "Now let\\'s take the inner product"
   ]
  },
  {
   "cell_type": "code",
   "execution_count": null,
   "id": "f544a73b",
   "metadata": {},
   "outputs": [],
   "source": [
    "b @ c"
   ]
  },
  {
   "cell_type": "markdown",
   "id": "022d8b4f",
   "metadata": {},
   "source": [
    "The number you see here might vary slightly due to floating point arithmetic\n",
    "but it\\'s essentially zero.\n",
    "\n",
    "As with other standard NumPy operations, this inner product calls into highly\n",
    "optimized machine code.\n",
    "\n",
    "It is as efficient as carefully hand-coded FORTRAN or C.\n",
    "\n",
    "\n",
    "\n",
    "\n",
    "## SciPy\n",
    "\n",
    "The [SciPy](http://www.scipy.org) library is built on top of NumPy and\n",
    "provides additional functionality.\n",
    "\n",
    "(tuple_unpacking_example)=\n",
    "For example, let\\'s calculate $\\int_{-2}^2 \\phi(z) dz$ where $\\phi$ is\n",
    "the standard normal density."
   ]
  },
  {
   "cell_type": "code",
   "execution_count": null,
   "id": "cd34eb04",
   "metadata": {},
   "outputs": [],
   "source": [
    "from scipy.stats import norm\n",
    "from scipy.integrate import quad\n",
    "\n",
    "ϕ = norm()\n",
    "value, error = quad(ϕ.pdf, -2, 2)  # Integrate using Gaussian quadrature\n",
    "value"
   ]
  },
  {
   "cell_type": "markdown",
   "id": "fbf3ffe7",
   "metadata": {},
   "source": [
    "SciPy includes many of the standard routines used in\n",
    "\n",
    "-   [linear algebra](http://docs.scipy.org/doc/scipy/reference/linalg.html)\n",
    "-   [integration](http://docs.scipy.org/doc/scipy/reference/integrate.html)\n",
    "-   [interpolation](http://docs.scipy.org/doc/scipy/reference/interpolate.html)\n",
    "-   [optimization](http://docs.scipy.org/doc/scipy/reference/optimize.html)\n",
    "-   [distributions and random number generation](http://docs.scipy.org/doc/scipy/reference/stats.html)\n",
    "-   [signal processing](http://docs.scipy.org/doc/scipy/reference/signal.html)\n",
    "\n",
    "See them all [here](http://docs.scipy.org/doc/scipy/reference/index.html).\n",
    "\n",
    "## Graphics\n",
    "\n",
    "The most popular and comprehensive Python library for creating figures\n",
    "and graphs is [Matplotlib](http://matplotlib.org/), with functionality\n",
    "including\n",
    "\n",
    "-   plots, histograms, contour images, 3D graphs, bar charts etc.\n",
    "-   output in many formats (PDF, PNG, EPS, etc.)\n",
    "-   LaTeX integration\n",
    "\n",
    "Example 2D plot with embedded LaTeX annotations\n",
    "\n",
    "```{figure} /_static/lecture_specific/about_py/qs.png\n",
    ":scale: 55%\n",
    "```\n",
    "\n",
    "Example contour plot\n",
    "\n",
    "```{figure} /_static/lecture_specific/about_py/bn_density1.png\n",
    ":scale: 55%\n",
    "```\n",
    "\n",
    "Example 3D plot\n",
    "\n",
    "```{figure} /_static/lecture_specific/about_py/career_vf.png\n",
    ":scale: 80%\n",
    "```\n",
    "\n",
    "More examples can be found in the [Matplotlib thumbnail\n",
    "gallery](http://matplotlib.org/gallery.html).\n",
    "\n",
    "Other graphics libraries include\n",
    "\n",
    "-   [Plotly](https://plot.ly/python/)\n",
    "-   [Bokeh](http://bokeh.pydata.org/en/latest/)\n",
    "\n",
    "## Symbolic Algebra\n",
    "\n",
    "It\\'s useful to be able to manipulate symbolic expressions, as in\n",
    "Mathematica or Maple.\n",
    "\n",
    "The [SymPy](http://www.sympy.org/) library provides this functionality\n",
    "from within the Python shell."
   ]
  },
  {
   "cell_type": "code",
   "execution_count": null,
   "id": "31080d68",
   "metadata": {},
   "outputs": [],
   "source": [
    "from sympy import Symbol\n",
    "\n",
    "x, y = Symbol('x'), Symbol('y')  # Treat 'x' and 'y' as algebraic symbols\n",
    "x + x + x + y"
   ]
  },
  {
   "cell_type": "markdown",
   "id": "2059b5c5",
   "metadata": {},
   "source": [
    "We can manipulate expressions"
   ]
  },
  {
   "cell_type": "code",
   "execution_count": null,
   "id": "5b433696",
   "metadata": {},
   "outputs": [],
   "source": [
    "expression = (x + y)**2\n",
    "expression.expand()"
   ]
  },
  {
   "cell_type": "markdown",
   "id": "7a203975",
   "metadata": {},
   "source": [
    "solve polynomials"
   ]
  },
  {
   "cell_type": "code",
   "execution_count": null,
   "id": "dfa76f0f",
   "metadata": {},
   "outputs": [],
   "source": [
    "from sympy import solve\n",
    "\n",
    "solve(x**2 + x + 2)"
   ]
  },
  {
   "cell_type": "markdown",
   "id": "a1807969",
   "metadata": {},
   "source": [
    "and calculate limits, derivatives and integrals"
   ]
  },
  {
   "cell_type": "code",
   "execution_count": null,
   "id": "b442bfd7",
   "metadata": {},
   "outputs": [],
   "source": [
    "from sympy import limit, sin, diff\n",
    "\n",
    "limit(1 / x, x, 0)"
   ]
  },
  {
   "cell_type": "code",
   "execution_count": null,
   "id": "423edf77",
   "metadata": {},
   "outputs": [],
   "source": [
    "limit(sin(x) / x, x, 0)"
   ]
  },
  {
   "cell_type": "code",
   "execution_count": null,
   "id": "eb6af96d",
   "metadata": {},
   "outputs": [],
   "source": [
    "diff(sin(x), x)"
   ]
  },
  {
   "cell_type": "markdown",
   "id": "1081653b",
   "metadata": {},
   "source": [
    "The beauty of importing this functionality into Python is that we are\n",
    "working within a fully fledged programming language.\n",
    "\n",
    "We can easily create tables of derivatives, generate LaTeX output, add\n",
    "that output to figures and so on.\n",
    "\n",
    "## Pandas\n",
    "\n",
    "One of the most popular libraries for working with data is\n",
    "[pandas](http://pandas.pydata.org/).\n",
    "\n",
    "Pandas is fast, efficient, flexible and well designed.\n",
    "\n",
    "Here\\'s a simple example, using some dummy data generated with Numpy\\'s\n",
    "excellent `random` functionality."
   ]
  },
  {
   "cell_type": "code",
   "execution_count": null,
   "id": "8d3b8bc2",
   "metadata": {},
   "outputs": [],
   "source": [
    "import pandas as pd\n",
    "np.random.seed(1234)\n",
    "\n",
    "data = np.random.randn(5, 2)  # 5x2 matrix of N(0, 1) random draws\n",
    "dates = pd.date_range('28/12/2010', periods=5)\n",
    "\n",
    "df = pd.DataFrame(data, columns=('price', 'weight'), index=dates)\n",
    "print(df)"
   ]
  },
  {
   "cell_type": "code",
   "execution_count": null,
   "id": "2984a181",
   "metadata": {},
   "outputs": [],
   "source": [
    "df.mean()"
   ]
  },
  {
   "cell_type": "markdown",
   "id": "74cdff7a",
   "metadata": {},
   "source": [
    "## Further Reading\n",
    "\n",
    "\n",
    "These lectures were originally taken from a longer and more complete lecture\n",
    "series on Python programming hosted by [QuantEcon](https://quantecon.org).\n",
    "\n",
    "The [full set of lectures](https://python-programming.quantecon.org/) might be\n",
    "useful as the next step of your study."
   ]
  }
 ],
 "metadata": {
  "jupytext": {
   "text_representation": {
    "extension": ".md",
    "format_name": "myst"
   }
  },
  "kernelspec": {
   "display_name": "Python 3",
   "language": "python",
   "name": "python3"
  },
  "source_map": [
   10,
   81,
   87,
   91,
   93,
   115,
   122,
   179,
   184,
   188,
   191,
   195,
   199,
   203,
   209,
   213,
   215,
   233,
   244,
   246
  ]
 },
 "nbformat": 4,
 "nbformat_minor": 5
}