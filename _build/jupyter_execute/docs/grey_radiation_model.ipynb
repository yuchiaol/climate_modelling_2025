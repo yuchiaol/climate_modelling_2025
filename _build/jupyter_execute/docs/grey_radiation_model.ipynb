{
 "cells": [
  {
   "cell_type": "markdown",
   "id": "25e991da",
   "metadata": {},
   "source": [
    "(grey_radiation_model)=\n",
    "\n",
    "# Grey Radiation Model\n",
    "\n",
    "## climlab\n",
    "From now on, it would be useful, and sometimes helpful, to konw [climlab](https://climlab.readthedocs.io/en/latest/), developed by Professor Brian E. J. Rose. Let's start with a few examples: [here](https://brian-rose.github.io/ClimateLaboratoryBook/courseware/grey-radiation-climlab.html). We will see how to construct a 30-layer model, which seems not feasible for solving the equations analytically.\n",
    "\n",
    "\n",
    "\n",
    "```{figure} /_static/lecture_specific/lecture1_figures/Chapter-3-1.png\n",
    ":scale: 10%\n",
    "```\n",
    "\n",
    "```{math}\n",
    ":label: my_label26\n",
    "(1-\\alpha)Q + \\sigma T_{a}^{4} = \\sigma T_{s}^{4}\n",
    "```\n",
    "\n",
    "```{note}\n",
    "back radiation: $\\sigma T_{a}^{4}$\n",
    "```\n",
    "\n",
    "## Homework assignment 3 (due xxx)\n",
    "\n",
    "## Final project 3"
   ]
  }
 ],
 "metadata": {
  "jupytext": {
   "text_representation": {
    "extension": ".md",
    "format_name": "myst"
   }
  },
  "kernelspec": {
   "display_name": "Python 3",
   "language": "python",
   "name": "python3"
  },
  "source_map": [
   10
  ]
 },
 "nbformat": 4,
 "nbformat_minor": 5
}